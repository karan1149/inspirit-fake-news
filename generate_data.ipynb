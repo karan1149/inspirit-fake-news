{
 "cells": [
  {
   "cell_type": "code",
   "execution_count": 22,
   "metadata": {},
   "outputs": [],
   "source": [
    "import pickle\n",
    "import io\n",
    "import os\n",
    "import sys\n",
    "import json\n",
    "import requests\n",
    "from tqdm import tqdm\n",
    "import time\n",
    "import random\n",
    "import numpy as np\n",
    "import math"
   ]
  },
  {
   "cell_type": "code",
   "execution_count": 35,
   "metadata": {},
   "outputs": [
    {
     "name": "stderr",
     "output_type": "stream",
     "text": [
      "  1%|          | 8/661 [00:04<07:30,  1.45it/s]"
     ]
    },
    {
     "name": "stdout",
     "output_type": "stream",
     "text": [
      "Skipping igrewupinusa.info\n"
     ]
    },
    {
     "name": "stderr",
     "output_type": "stream",
     "text": [
      "  2%|▏         | 16/661 [00:20<26:30,  2.47s/it]"
     ]
    },
    {
     "name": "stdout",
     "output_type": "stream",
     "text": [
      "Skipping usascan.com\n"
     ]
    },
    {
     "name": "stderr",
     "output_type": "stream",
     "text": [
      "  4%|▍         | 28/661 [00:30<12:02,  1.14s/it]"
     ]
    },
    {
     "name": "stdout",
     "output_type": "stream",
     "text": [
      "Skipping politicalo.com\n"
     ]
    },
    {
     "name": "stderr",
     "output_type": "stream",
     "text": [
      "  5%|▌         | 36/661 [00:44<36:55,  3.54s/it]"
     ]
    },
    {
     "name": "stdout",
     "output_type": "stream",
     "text": [
      "Skipping conservativeoutfitters.com\n"
     ]
    },
    {
     "name": "stderr",
     "output_type": "stream",
     "text": [
      "\r",
      "  6%|▌         | 37/661 [00:46<30:52,  2.97s/it]"
     ]
    },
    {
     "name": "stdout",
     "output_type": "stream",
     "text": [
      "Skipping usviewer.com\n"
     ]
    },
    {
     "name": "stderr",
     "output_type": "stream",
     "text": [
      "  7%|▋         | 44/661 [00:51<11:46,  1.14s/it]"
     ]
    },
    {
     "name": "stdout",
     "output_type": "stream",
     "text": [
      "Skipping thedemocratic.site\n"
     ]
    },
    {
     "name": "stderr",
     "output_type": "stream",
     "text": [
      "\r",
      "  7%|▋         | 45/661 [00:52<11:28,  1.12s/it]"
     ]
    },
    {
     "name": "stdout",
     "output_type": "stream",
     "text": [
      "Skipping worldcallyoutoday.com\n"
     ]
    },
    {
     "name": "stderr",
     "output_type": "stream",
     "text": [
      " 10%|▉         | 64/661 [01:20<16:13,  1.63s/it]"
     ]
    },
    {
     "name": "stdout",
     "output_type": "stream",
     "text": [
      "Skipping nbcpoll.com\n"
     ]
    },
    {
     "name": "stderr",
     "output_type": "stream",
     "text": [
      " 11%|█         | 70/661 [01:24<09:22,  1.05it/s]"
     ]
    },
    {
     "name": "stdout",
     "output_type": "stream",
     "text": [
      "Skipping allpoliticsnews.com\n"
     ]
    },
    {
     "name": "stderr",
     "output_type": "stream",
     "text": [
      " 11%|█         | 73/661 [01:26<10:26,  1.07s/it]"
     ]
    },
    {
     "name": "stdout",
     "output_type": "stream",
     "text": [
      "Skipping usalinepoliticsnow.com\n"
     ]
    },
    {
     "name": "stderr",
     "output_type": "stream",
     "text": [
      "\r",
      " 11%|█▏        | 75/661 [01:31<14:42,  1.51s/it]"
     ]
    },
    {
     "name": "stdout",
     "output_type": "stream",
     "text": [
      "Skipping educate-yourself.org\n"
     ]
    },
    {
     "name": "stderr",
     "output_type": "stream",
     "text": [
      " 13%|█▎        | 83/661 [01:37<06:06,  1.58it/s]"
     ]
    },
    {
     "name": "stdout",
     "output_type": "stream",
     "text": [
      "Skipping msnbc.website\n"
     ]
    },
    {
     "name": "stderr",
     "output_type": "stream",
     "text": [
      " 15%|█▍        | 97/661 [01:47<12:23,  1.32s/it]"
     ]
    },
    {
     "name": "stdout",
     "output_type": "stream",
     "text": [
      "Skipping sentinelblog.com\n"
     ]
    },
    {
     "name": "stderr",
     "output_type": "stream",
     "text": [
      " 16%|█▌        | 105/661 [02:12<1:01:58,  6.69s/it]"
     ]
    },
    {
     "name": "stdout",
     "output_type": "stream",
     "text": [
      "Skipping morningnewsusa.com\n"
     ]
    },
    {
     "name": "stderr",
     "output_type": "stream",
     "text": [
      " 17%|█▋        | 114/661 [02:20<11:45,  1.29s/it]  "
     ]
    },
    {
     "name": "stdout",
     "output_type": "stream",
     "text": [
      "Skipping dailyintestingthings.com\n"
     ]
    },
    {
     "name": "stderr",
     "output_type": "stream",
     "text": [
      " 19%|█▊        | 123/661 [02:23<02:58,  3.01it/s]"
     ]
    },
    {
     "name": "stdout",
     "output_type": "stream",
     "text": [
      "Skipping trendingnewstoday.net\n",
      "Skipping delectabledietofpics.net\n"
     ]
    },
    {
     "name": "stderr",
     "output_type": "stream",
     "text": [
      " 20%|█▉        | 130/661 [02:26<02:43,  3.24it/s]"
     ]
    },
    {
     "name": "stdout",
     "output_type": "stream",
     "text": [
      "Skipping usanews24hrs.com\n"
     ]
    },
    {
     "name": "stderr",
     "output_type": "stream",
     "text": [
      " 21%|██        | 138/661 [02:33<03:58,  2.20it/s]"
     ]
    },
    {
     "name": "stdout",
     "output_type": "stream",
     "text": [
      "Skipping usapoliticsdaily.com\n"
     ]
    },
    {
     "name": "stderr",
     "output_type": "stream",
     "text": [
      " 21%|██        | 140/661 [02:43<28:50,  3.32s/it]"
     ]
    },
    {
     "name": "stdout",
     "output_type": "stream",
     "text": [
      "Skipping worldnewspolitics.com\n"
     ]
    },
    {
     "name": "stderr",
     "output_type": "stream",
     "text": [
      "\r",
      " 21%|██▏       | 141/661 [02:45<23:25,  2.70s/it]"
     ]
    },
    {
     "name": "stdout",
     "output_type": "stream",
     "text": [
      "Skipping anonnews.co\n"
     ]
    },
    {
     "name": "stderr",
     "output_type": "stream",
     "text": [
      "\r",
      " 22%|██▏       | 143/661 [02:45<16:58,  1.97s/it]"
     ]
    },
    {
     "name": "stdout",
     "output_type": "stream",
     "text": [
      "Skipping eatinghealthytricks.com\n"
     ]
    },
    {
     "name": "stderr",
     "output_type": "stream",
     "text": [
      " 22%|██▏       | 146/661 [02:47<12:07,  1.41s/it]"
     ]
    },
    {
     "name": "stdout",
     "output_type": "stream",
     "text": [
      "Skipping thenewsnerd.com\n"
     ]
    },
    {
     "name": "stderr",
     "output_type": "stream",
     "text": [
      " 23%|██▎       | 153/661 [03:07<31:31,  3.72s/it]"
     ]
    },
    {
     "name": "stdout",
     "output_type": "stream",
     "text": [
      "Skipping thetruenews.info\n",
      "Skipping usalinepolitics.com\n"
     ]
    },
    {
     "name": "stderr",
     "output_type": "stream",
     "text": [
      " 24%|██▎       | 156/661 [03:09<18:52,  2.24s/it]"
     ]
    },
    {
     "name": "stdout",
     "output_type": "stream",
     "text": [
      "Skipping yourfunpage.com\n"
     ]
    },
    {
     "name": "stderr",
     "output_type": "stream",
     "text": [
      " 25%|██▍       | 163/661 [03:16<08:59,  1.08s/it]"
     ]
    },
    {
     "name": "stdout",
     "output_type": "stream",
     "text": [
      "Skipping dailypolitics.info\n"
     ]
    },
    {
     "name": "stderr",
     "output_type": "stream",
     "text": [
      " 25%|██▍       | 165/661 [03:27<30:52,  3.73s/it]"
     ]
    },
    {
     "name": "stdout",
     "output_type": "stream",
     "text": [
      "Skipping geopolmonitor.com\n"
     ]
    },
    {
     "name": "stderr",
     "output_type": "stream",
     "text": [
      " 25%|██▌       | 167/661 [03:45<1:00:10,  7.31s/it]"
     ]
    },
    {
     "name": "stdout",
     "output_type": "stream",
     "text": [
      "Skipping presstv.com\n"
     ]
    },
    {
     "name": "stderr",
     "output_type": "stream",
     "text": [
      " 26%|██▌       | 170/661 [03:46<30:41,  3.75s/it]  "
     ]
    },
    {
     "name": "stdout",
     "output_type": "stream",
     "text": [
      "Skipping dailypoliticsusa.com\n"
     ]
    },
    {
     "name": "stderr",
     "output_type": "stream",
     "text": [
      " 27%|██▋       | 177/661 [04:04<24:17,  3.01s/it]"
     ]
    },
    {
     "name": "stdout",
     "output_type": "stream",
     "text": [
      "Skipping americannews.com\n"
     ]
    },
    {
     "name": "stderr",
     "output_type": "stream",
     "text": [
      " 28%|██▊       | 185/661 [04:09<07:20,  1.08it/s]"
     ]
    },
    {
     "name": "stdout",
     "output_type": "stream",
     "text": [
      "Skipping dailynews24-7.com\n"
     ]
    },
    {
     "name": "stderr",
     "output_type": "stream",
     "text": [
      " 29%|██▉       | 194/661 [04:17<06:54,  1.13it/s]"
     ]
    },
    {
     "name": "stdout",
     "output_type": "stream",
     "text": [
      "Skipping dailycurrant.com\n"
     ]
    },
    {
     "name": "stderr",
     "output_type": "stream",
     "text": [
      " 31%|███       | 206/661 [04:31<09:20,  1.23s/it]"
     ]
    },
    {
     "name": "stdout",
     "output_type": "stream",
     "text": [
      "Skipping realprogress.online\n",
      "Skipping doctorhealth365.com\n"
     ]
    },
    {
     "name": "stderr",
     "output_type": "stream",
     "text": [
      " 32%|███▏      | 209/661 [04:32<06:43,  1.12it/s]"
     ]
    },
    {
     "name": "stdout",
     "output_type": "stream",
     "text": [
      "Skipping 24extremeworld.com\n"
     ]
    },
    {
     "name": "stderr",
     "output_type": "stream",
     "text": [
      " 32%|███▏      | 213/661 [04:34<06:22,  1.17it/s]"
     ]
    },
    {
     "name": "stdout",
     "output_type": "stream",
     "text": [
      "Skipping votocrat.com\n"
     ]
    },
    {
     "name": "stderr",
     "output_type": "stream",
     "text": [
      "\r",
      " 32%|███▏      | 214/661 [04:35<06:35,  1.13it/s]"
     ]
    },
    {
     "name": "stdout",
     "output_type": "stream",
     "text": [
      "Skipping everythingnewdaily.com\n",
      "Skipping allgoodsides.com\n"
     ]
    },
    {
     "name": "stderr",
     "output_type": "stream",
     "text": [
      " 33%|███▎      | 220/661 [04:38<05:56,  1.24it/s]"
     ]
    },
    {
     "name": "stdout",
     "output_type": "stream",
     "text": [
      "Skipping theautogear.com\n"
     ]
    },
    {
     "name": "stderr",
     "output_type": "stream",
     "text": [
      " 34%|███▍      | 226/661 [04:41<04:52,  1.49it/s]"
     ]
    },
    {
     "name": "stdout",
     "output_type": "stream",
     "text": [
      "Skipping latestnews5.com\n"
     ]
    },
    {
     "name": "stderr",
     "output_type": "stream",
     "text": [
      " 36%|███▌      | 235/661 [04:50<03:57,  1.80it/s]"
     ]
    },
    {
     "name": "stdout",
     "output_type": "stream",
     "text": [
      "Skipping berniesandersnews.org\n"
     ]
    },
    {
     "name": "stderr",
     "output_type": "stream",
     "text": [
      " 37%|███▋      | 243/661 [04:55<03:49,  1.82it/s]"
     ]
    },
    {
     "name": "stdout",
     "output_type": "stream",
     "text": [
      "Skipping miniplanet.us\n"
     ]
    },
    {
     "name": "stderr",
     "output_type": "stream",
     "text": [
      " 38%|███▊      | 249/661 [05:00<05:31,  1.24it/s]"
     ]
    },
    {
     "name": "stdout",
     "output_type": "stream",
     "text": [
      "Skipping openmindmagazine.com\n",
      "Skipping darkpolitricks.com\n"
     ]
    },
    {
     "name": "stderr",
     "output_type": "stream",
     "text": [
      " 42%|████▏     | 278/661 [05:31<03:10,  2.02it/s]"
     ]
    },
    {
     "name": "stdout",
     "output_type": "stream",
     "text": [
      "Skipping awesomethings4you.com\n"
     ]
    },
    {
     "name": "stderr",
     "output_type": "stream",
     "text": [
      " 43%|████▎     | 282/661 [05:33<03:19,  1.90it/s]"
     ]
    },
    {
     "name": "stdout",
     "output_type": "stream",
     "text": [
      "Skipping freewoodpost.com\n"
     ]
    },
    {
     "name": "stderr",
     "output_type": "stream",
     "text": [
      " 46%|████▌     | 301/661 [05:56<22:03,  3.68s/it]"
     ]
    },
    {
     "name": "stdout",
     "output_type": "stream",
     "text": [
      "Skipping bignuggetnews.com\n"
     ]
    },
    {
     "name": "stderr",
     "output_type": "stream",
     "text": [
      " 46%|████▌     | 305/661 [06:07<24:00,  4.05s/it]"
     ]
    },
    {
     "name": "stdout",
     "output_type": "stream",
     "text": [
      "Skipping politicalblindspot.com\n"
     ]
    },
    {
     "name": "stderr",
     "output_type": "stream",
     "text": [
      " 48%|████▊     | 317/661 [06:20<09:45,  1.70s/it]"
     ]
    },
    {
     "name": "stdout",
     "output_type": "stream",
     "text": [
      "Skipping daily-magazine.news\n"
     ]
    },
    {
     "name": "stderr",
     "output_type": "stream",
     "text": [
      " 51%|█████     | 334/661 [06:30<04:01,  1.35it/s]"
     ]
    },
    {
     "name": "stdout",
     "output_type": "stream",
     "text": [
      "Skipping christianfightback.com\n"
     ]
    },
    {
     "name": "stderr",
     "output_type": "stream",
     "text": [
      " 51%|█████     | 338/661 [06:32<03:04,  1.75it/s]"
     ]
    },
    {
     "name": "stdout",
     "output_type": "stream",
     "text": [
      "Skipping topnewspolitics.com\n"
     ]
    },
    {
     "name": "stderr",
     "output_type": "stream",
     "text": [
      " 52%|█████▏    | 342/661 [06:38<07:34,  1.42s/it]"
     ]
    },
    {
     "name": "stdout",
     "output_type": "stream",
     "text": [
      "Skipping newslo.com\n"
     ]
    },
    {
     "name": "stderr",
     "output_type": "stream",
     "text": [
      " 53%|█████▎    | 353/661 [06:48<05:44,  1.12s/it]"
     ]
    },
    {
     "name": "stdout",
     "output_type": "stream",
     "text": [
      "Skipping wikispooks.com\n"
     ]
    },
    {
     "name": "stderr",
     "output_type": "stream",
     "text": [
      " 54%|█████▍    | 357/661 [06:52<05:28,  1.08s/it]"
     ]
    },
    {
     "name": "stdout",
     "output_type": "stream",
     "text": [
      "Skipping usapoliticsnow.com\n",
      "Skipping usapoliticus.com\n"
     ]
    },
    {
     "name": "stderr",
     "output_type": "stream",
     "text": [
      " 55%|█████▍    | 361/661 [06:55<04:32,  1.10it/s]"
     ]
    },
    {
     "name": "stdout",
     "output_type": "stream",
     "text": [
      "Skipping nbcpolitics.org\n"
     ]
    },
    {
     "name": "stderr",
     "output_type": "stream",
     "text": [
      " 56%|█████▌    | 368/661 [07:10<18:24,  3.77s/it]"
     ]
    },
    {
     "name": "stdout",
     "output_type": "stream",
     "text": [
      "Skipping proudemocrat.com\n"
     ]
    },
    {
     "name": "stderr",
     "output_type": "stream",
     "text": [
      " 56%|█████▌    | 371/661 [07:11<07:10,  1.48s/it]"
     ]
    },
    {
     "name": "stdout",
     "output_type": "stream",
     "text": [
      "Skipping nyuzer.com\n"
     ]
    },
    {
     "name": "stderr",
     "output_type": "stream",
     "text": [
      " 57%|█████▋    | 374/661 [07:21<18:13,  3.81s/it]"
     ]
    },
    {
     "name": "stdout",
     "output_type": "stream",
     "text": [
      "Skipping truthkings.com\n",
      "Skipping redflagnews.com\n"
     ]
    },
    {
     "name": "stderr",
     "output_type": "stream",
     "text": [
      " 58%|█████▊    | 384/661 [07:25<02:56,  1.57it/s]"
     ]
    },
    {
     "name": "stdout",
     "output_type": "stream",
     "text": [
      "Skipping politicaltimes.org\n"
     ]
    },
    {
     "name": "stderr",
     "output_type": "stream",
     "text": [
      " 62%|██████▏   | 407/661 [07:39<01:46,  2.39it/s]"
     ]
    },
    {
     "name": "stdout",
     "output_type": "stream",
     "text": [
      "Skipping everydayworldnews.com\n"
     ]
    },
    {
     "name": "stderr",
     "output_type": "stream",
     "text": [
      " 62%|██████▏   | 410/661 [07:42<02:18,  1.82it/s]"
     ]
    },
    {
     "name": "stdout",
     "output_type": "stream",
     "text": [
      "Skipping wakingupwisconsin.com\n"
     ]
    },
    {
     "name": "stderr",
     "output_type": "stream",
     "text": [
      "\r",
      " 62%|██████▏   | 412/661 [07:55<09:16,  2.23s/it]"
     ]
    },
    {
     "name": "stdout",
     "output_type": "stream",
     "text": [
      "Skipping ncscooper.com\n"
     ]
    },
    {
     "name": "stderr",
     "output_type": "stream",
     "text": [
      " 63%|██████▎   | 414/661 [08:06<17:50,  4.34s/it]"
     ]
    },
    {
     "name": "stdout",
     "output_type": "stream",
     "text": [
      "Skipping theeventchronicle.com\n"
     ]
    },
    {
     "name": "stderr",
     "output_type": "stream",
     "text": [
      " 63%|██████▎   | 417/661 [08:18<19:42,  4.85s/it]"
     ]
    },
    {
     "name": "stdout",
     "output_type": "stream",
     "text": [
      "Skipping moonofalabama.org\n"
     ]
    },
    {
     "name": "stderr",
     "output_type": "stream",
     "text": [
      "\r",
      " 63%|██████▎   | 418/661 [08:18<13:59,  3.46s/it]"
     ]
    },
    {
     "name": "stdout",
     "output_type": "stream",
     "text": [
      "Skipping usaonlinepolitics.com\n"
     ]
    },
    {
     "name": "stderr",
     "output_type": "stream",
     "text": [
      "\r",
      " 64%|██████▎   | 420/661 [08:28<15:45,  3.92s/it]"
     ]
    },
    {
     "name": "stdout",
     "output_type": "stream",
     "text": [
      "Skipping nymeta.co\n"
     ]
    },
    {
     "name": "stderr",
     "output_type": "stream",
     "text": [
      " 67%|██████▋   | 444/661 [08:43<01:42,  2.12it/s]"
     ]
    },
    {
     "name": "stdout",
     "output_type": "stream",
     "text": [
      "Skipping gonzoglobe.com\n"
     ]
    },
    {
     "name": "stderr",
     "output_type": "stream",
     "text": [
      " 69%|██████▉   | 456/661 [09:06<19:17,  5.65s/it]"
     ]
    },
    {
     "name": "stdout",
     "output_type": "stream",
     "text": [
      "Skipping theuspatriot.com\n"
     ]
    },
    {
     "name": "stderr",
     "output_type": "stream",
     "text": [
      " 70%|███████   | 465/661 [09:21<08:59,  2.75s/it]"
     ]
    },
    {
     "name": "stdout",
     "output_type": "stream",
     "text": [
      "Skipping berniesanders24.com\n",
      "Skipping dailydemocraticnews.com\n"
     ]
    },
    {
     "name": "stderr",
     "output_type": "stream",
     "text": [
      "\r",
      " 71%|███████   | 469/661 [09:22<06:16,  1.96s/it]"
     ]
    },
    {
     "name": "stdout",
     "output_type": "stream",
     "text": [
      "Skipping worldpoliticsus.com\n"
     ]
    },
    {
     "name": "stderr",
     "output_type": "stream",
     "text": [
      " 73%|███████▎  | 482/661 [09:31<01:18,  2.28it/s]"
     ]
    },
    {
     "name": "stdout",
     "output_type": "stream",
     "text": [
      "Skipping universepolitics.com\n"
     ]
    },
    {
     "name": "stderr",
     "output_type": "stream",
     "text": [
      " 73%|███████▎  | 485/661 [09:32<01:10,  2.49it/s]"
     ]
    },
    {
     "name": "stdout",
     "output_type": "stream",
     "text": [
      "Skipping worlddaily.info\n"
     ]
    },
    {
     "name": "stderr",
     "output_type": "stream",
     "text": [
      " 75%|███████▌  | 496/661 [09:45<03:25,  1.25s/it]"
     ]
    },
    {
     "name": "stdout",
     "output_type": "stream",
     "text": [
      "Skipping bigbluevision.org\n"
     ]
    },
    {
     "name": "stderr",
     "output_type": "stream",
     "text": [
      " 75%|███████▌  | 499/661 [09:46<02:06,  1.28it/s]"
     ]
    },
    {
     "name": "stdout",
     "output_type": "stream",
     "text": [
      "Skipping politicalsitenews.com\n"
     ]
    },
    {
     "name": "stderr",
     "output_type": "stream",
     "text": [
      "\r",
      " 76%|███████▌  | 500/661 [09:47<01:41,  1.58it/s]"
     ]
    },
    {
     "name": "stdout",
     "output_type": "stream",
     "text": [
      "Skipping conspiracywire.com\n"
     ]
    },
    {
     "name": "stderr",
     "output_type": "stream",
     "text": [
      " 76%|███████▌  | 504/661 [09:49<01:40,  1.56it/s]"
     ]
    },
    {
     "name": "stdout",
     "output_type": "stream",
     "text": [
      "Skipping topinfopost.com\n"
     ]
    },
    {
     "name": "stderr",
     "output_type": "stream",
     "text": [
      " 78%|███████▊  | 513/661 [10:15<10:37,  4.31s/it]"
     ]
    },
    {
     "name": "stdout",
     "output_type": "stream",
     "text": [
      "Skipping vonpress.com\n"
     ]
    },
    {
     "name": "stderr",
     "output_type": "stream",
     "text": [
      " 79%|███████▉  | 524/661 [10:20<01:31,  1.50it/s]"
     ]
    },
    {
     "name": "stdout",
     "output_type": "stream",
     "text": [
      "Skipping usblastingnews.com\n",
      "Skipping thereporterz.com\n"
     ]
    },
    {
     "name": "stderr",
     "output_type": "stream",
     "text": [
      " 80%|████████  | 531/661 [10:42<13:16,  6.13s/it]"
     ]
    },
    {
     "name": "stdout",
     "output_type": "stream",
     "text": [
      "Skipping presstv.ir\n"
     ]
    },
    {
     "name": "stderr",
     "output_type": "stream",
     "text": [
      " 81%|████████  | 536/661 [10:55<09:33,  4.59s/it]"
     ]
    },
    {
     "name": "stdout",
     "output_type": "stream",
     "text": [
      "Skipping voltairenet.org\n",
      "Skipping bigbluedimension.com\n",
      "Skipping indiaarising.com\n"
     ]
    },
    {
     "name": "stderr",
     "output_type": "stream",
     "text": [
      " 83%|████████▎ | 550/661 [11:01<00:47,  2.34it/s]"
     ]
    },
    {
     "name": "stdout",
     "output_type": "stream",
     "text": [
      "Skipping centralnewsamerica.com\n"
     ]
    },
    {
     "name": "stderr",
     "output_type": "stream",
     "text": [
      " 87%|████████▋ | 576/661 [11:19<02:29,  1.76s/it]"
     ]
    },
    {
     "name": "stdout",
     "output_type": "stream",
     "text": [
      "Skipping www.miamiherald.com\n"
     ]
    },
    {
     "name": "stderr",
     "output_type": "stream",
     "text": [
      " 88%|████████▊ | 579/661 [11:38<03:51,  2.82s/it]"
     ]
    },
    {
     "name": "stdout",
     "output_type": "stream",
     "text": [
      "Skipping washingtonpost.com\n"
     ]
    },
    {
     "name": "stderr",
     "output_type": "stream",
     "text": [
      " 97%|█████████▋| 638/661 [11:54<00:06,  3.55it/s]"
     ]
    },
    {
     "name": "stdout",
     "output_type": "stream",
     "text": [
      "Skipping huffingtonpost.com\n"
     ]
    },
    {
     "name": "stderr",
     "output_type": "stream",
     "text": [
      "100%|██████████| 661/661 [11:59<00:00,  6.49it/s]\n"
     ]
    }
   ],
   "source": [
    "with open('fake_sites.json') as f:\n",
    "    fake_sites = json.load(f)\n",
    "    fake_sites = list(set([site['url'] for site in fake_sites]))\n",
    "    fake_sites = [(url, 1) for url in fake_sites]\n",
    "    \n",
    "with open('real_sites.json') as f:\n",
    "    real_sites = list(set(json.load(f)))\n",
    "    real_sites = [(url, 0) for url in real_sites]\n",
    "    \n",
    "sites = fake_sites + real_sites\n",
    "    \n",
    "    \n",
    "def get_data_tuples(sites):\n",
    "    tuples = []\n",
    "    for url, label in tqdm(sites):\n",
    "        if not url.startswith('http'):\n",
    "            url = 'http://' + url\n",
    "        url_pretty = url\n",
    "        if url_pretty.startswith('http://'):\n",
    "            url_pretty = url_pretty[7:]\n",
    "        if url_pretty.startswith('https://'):\n",
    "            url_pretty = url_pretty[8:]\n",
    "        try:\n",
    "            response = requests.get(url, timeout=10)\n",
    "            htmltext = response.text\n",
    "        except:\n",
    "            print('Skipping', url_pretty)\n",
    "            continue\n",
    "        tuples.append((url_pretty, htmltext, label))\n",
    "\n",
    "    return tuples\n",
    "        \n",
    "data_tuples = get_data_tuples(sites)"
   ]
  },
  {
   "cell_type": "code",
   "execution_count": 36,
   "metadata": {},
   "outputs": [],
   "source": [
    "with open('data_files/%d.pkl' % time.time(), 'wb') as f:\n",
    "    pickle.dump(data_tuples, f)"
   ]
  },
  {
   "cell_type": "code",
   "execution_count": 37,
   "metadata": {},
   "outputs": [
    {
     "name": "stdout",
     "output_type": "stream",
     "text": [
      "Loading data_files/1558990118.pkl\n",
      "579\n",
      "Loading data_files/1559263037.pkl\n",
      "582\n",
      "Loading data_files/1559171675.pkl\n",
      "581\n",
      "Loading data_files/1558473195.pkl\n",
      "582\n",
      "Loading data_files/1559424553.pkl\n",
      "579\n",
      "Loading data_files/1558734576.pkl\n",
      "583\n",
      "Loading data_files/1559095036.pkl\n",
      "581\n",
      "Loading data_files/1559504675.pkl\n",
      "570\n",
      "Loading data_files/1558567359.pkl\n",
      "584\n",
      "Loading data_files/1559347415.pkl\n",
      "581\n",
      "Loading data_files/1558652712.pkl\n",
      "580\n",
      "6382\n",
      "\n",
      "538\n",
      "58\n",
      "61\n"
     ]
    }
   ],
   "source": [
    "data = []\n",
    "files = [os.path.join('data_files', filename) for filename in os.listdir('data_files') if filename.endswith('.pkl')]\n",
    "for file in files:\n",
    "    print('Loading', file)\n",
    "    with open(file, 'rb') as f:\n",
    "        data_curr = pickle.load(f)\n",
    "        print(len(data_curr))\n",
    "        data = data + data_curr\n",
    "print(len(data))\n",
    "\n",
    "train_sites = set()\n",
    "val_sites = set()\n",
    "test_sites = set()\n",
    "\n",
    "seen = set()\n",
    "\n",
    "def prettify_url(url):\n",
    "    url_pretty = url\n",
    "    if url_pretty.startswith('http://'):\n",
    "        url_pretty = url_pretty[7:]\n",
    "    if url_pretty.startswith('https://'):\n",
    "        url_pretty = url_pretty[8:]\n",
    "    return url_pretty\n",
    "\n",
    "for site, label in fake_sites:\n",
    "    site = prettify_url(site)\n",
    "    if site in seen:\n",
    "        continue\n",
    "    seen.add(site)\n",
    "    if random.random() < .1:\n",
    "        test_sites.add(site)\n",
    "    elif random.random() < .1:\n",
    "        val_sites.add(site)\n",
    "    else:\n",
    "        train_sites.add(site)\n",
    "        \n",
    "for site, label in real_sites:\n",
    "    site = prettify_url(site)\n",
    "    if site in seen:\n",
    "        continue\n",
    "    seen.add(site)\n",
    "    if random.random() < .1:\n",
    "        test_sites.add(site)\n",
    "    elif random.random() < .1:\n",
    "        val_sites.add(site)\n",
    "    else:\n",
    "        train_sites.add(site)\n",
    "print()        \n",
    "print(len(train_sites))\n",
    "print(len(val_sites))\n",
    "print(len(test_sites))\n",
    "\n",
    "assert(not train_sites.intersection(val_sites))\n",
    "assert(not test_sites.intersection(val_sites))\n",
    "assert(not test_sites.intersection(train_sites))\n",
    "\n",
    "splits = [train_sites, val_sites, test_sites]"
   ]
  },
  {
   "cell_type": "code",
   "execution_count": 27,
   "metadata": {},
   "outputs": [
    {
     "name": "stdout",
     "output_type": "stream",
     "text": [
      "1324 124 166\n",
      "('.biz in url', '.info in url', '.net in url', '.com in url', '.org in url', '.co.uk in url', '.ru in url', '.me in url', '.tv in url', '.co. in url', '.news in url', 'trump count', 'obama count', 'clinton count', 'biden count', 'sports count', 'politics count', 'news count', 'finance count', 'opinion count')\n",
      "[LibLinear]\n",
      "0.8361027190332326\n",
      "(array([0.86862442, 0.80502216]), array([0.80979827, 0.86507937]), array([0.83818046, 0.83397093]), array([694, 630]))\n",
      "\n",
      "0.8225806451612904\n",
      "(array([0.86764706, 0.76785714]), array([0.81944444, 0.82692308]), array([0.84285714, 0.7962963 ]), array([72, 52]))\n",
      "\n",
      "0.8072289156626506\n",
      "(array([0.77586207, 0.82407407]), array([0.703125  , 0.87254902]), array([0.73770492, 0.84761905]), array([ 64, 102]))\n"
     ]
    },
    {
     "name": "stderr",
     "output_type": "stream",
     "text": [
      "/usr/local/lib/python3.7/site-packages/sklearn/linear_model/logistic.py:433: FutureWarning: Default solver will be changed to 'lbfgs' in 0.22. Specify a solver to silence this warning.\n",
      "  FutureWarning)\n"
     ]
    },
    {
     "data": {
      "text/plain": [
       "[('.co.uk in url', -1.5510305193217933),\n",
       " ('.com in url', -0.9275884325537403),\n",
       " ('.org in url', -0.546530474418575),\n",
       " ('sports count', -0.5444725606973222),\n",
       " ('opinion count', -0.4951417248684551),\n",
       " ('finance count', -0.396436789079081),\n",
       " ('news count', -0.3277643140287554),\n",
       " ('biden count', -0.23535662224744672),\n",
       " ('trump count', -0.06804955054212443),\n",
       " ('politics count', -6.730974088010193e-05),\n",
       " ('.me in url', 0.11586698046906725),\n",
       " ('.biz in url', 0.12243708697760194),\n",
       " ('.ru in url', 0.3109679405599921),\n",
       " ('.co. in url', 0.40843245054186006),\n",
       " ('.info in url', 0.44852748222705713),\n",
       " ('clinton count', 0.536587335113849),\n",
       " ('.news in url', 0.9791561379436412),\n",
       " ('obama count', 1.1374321237195282),\n",
       " ('.net in url', 1.392951405556507),\n",
       " ('.tv in url', 1.4806261129650231)]"
      ]
     },
     "execution_count": 27,
     "metadata": {},
     "output_type": "execute_result"
    }
   ],
   "source": [
    "def get_normalized_count(html, phrase):\n",
    "    return math.log(1 + html.count(phrase.lower()))\n",
    "\n",
    "def baseline_featurizer(data):\n",
    "    X = []\n",
    "    y = []\n",
    "    for site_info in data:\n",
    "        url, html, label = site_info\n",
    "        html = html.lower()\n",
    "        y.append(label)\n",
    "        \n",
    "        features = {}\n",
    "        features['.biz in url'] = url.endswith('.biz')\n",
    "        features['.info in url'] = url.endswith('.info')\n",
    "        features['.net in url'] = url.endswith('.net')\n",
    "        features['.com in url'] = url.endswith('.com')\n",
    "        features['.org in url'] = url.endswith('.org')\n",
    "        features['.co.uk in url'] = url.endswith('.co.uk')\n",
    "        features['.ru in url'] = url.endswith('.ru')\n",
    "        features['.me in url'] = url.endswith('.me')\n",
    "        features['.tv in url'] = url.endswith('.tv')\n",
    "        features['.co. in url'] = url.endswith('.co')\n",
    "        features['.news in url'] = url.endswith('.news')\n",
    "        \n",
    "        features['trump count'] = get_normalized_count(html, 'trump')\n",
    "        features['obama count'] = get_normalized_count(html, 'obama')\n",
    "        features['clinton count'] = get_normalized_count(html, 'clinton')\n",
    "        features['biden count'] = get_normalized_count(html, 'biden')\n",
    "        \n",
    "        features['sports count'] = get_normalized_count(html, 'sports')\n",
    "        features['politics count'] = get_normalized_count(html, 'politics')\n",
    "        features['news count'] = get_normalized_count(html, 'news')\n",
    "        features['finance count'] = get_normalized_count(html, 'finance')\n",
    "        features['opinion count'] = get_normalized_count(html, 'opinion')\n",
    "        \n",
    "        feature_descriptions, feature_values = zip(*features.items())\n",
    "        \n",
    "        X.append(feature_values)\n",
    "        \n",
    "    return X, y, feature_descriptions\n",
    "        \n",
    "def split_data(data, splits, filter_fake=.2):\n",
    "    train_sites, val_sites, test_sites = splits\n",
    "    train_data, val_data, test_data = [], [], []\n",
    "    for site_info in data:\n",
    "        url = site_info[0]\n",
    "        if site_info[2] == 1 and random.random() > filter_fake:\n",
    "            continue\n",
    "        if url in train_sites:\n",
    "            train_data.append(site_info)\n",
    "        elif url in val_sites:\n",
    "            val_data.append(site_info)\n",
    "        elif url in test_sites:\n",
    "            test_data.append(site_info)\n",
    "        else:\n",
    "            print('URL NOT FOUND', url, site_info)\n",
    "            assert(False)\n",
    "    random.shuffle(train_data)\n",
    "    random.shuffle(val_data)\n",
    "    random.shuffle(test_data)\n",
    "    return train_data, val_data, test_data\n",
    "    \n",
    "train_data, val_data, test_data = split_data(data, splits)\n",
    "print(len(train_data), len(val_data), len(test_data))\n",
    "\n",
    "train_X, train_y, feature_descriptions = baseline_featurizer(train_data)\n",
    "val_X, val_y, feature_descriptions = baseline_featurizer(val_data)\n",
    "test_X, test_y, feature_descriptions = baseline_featurizer(test_data)\n",
    "\n",
    "print(feature_descriptions)\n",
    "\n",
    "from sklearn.linear_model import LogisticRegression\n",
    "from sklearn.metrics import precision_recall_fscore_support\n",
    "from sklearn.metrics import accuracy_score\n",
    "model = LogisticRegression(verbose=True)\n",
    "model.fit(train_X, train_y)\n",
    "train_y_pred = model.predict(train_X)\n",
    "\n",
    "print()\n",
    "print(accuracy_score(train_y, train_y_pred))\n",
    "print(precision_recall_fscore_support(train_y, train_y_pred))\n",
    "\n",
    "val_y_pred = model.predict(val_X)\n",
    "print()\n",
    "print(accuracy_score(val_y, val_y_pred))\n",
    "print(precision_recall_fscore_support(val_y, val_y_pred))\n",
    "\n",
    "test_y_pred = model.predict(test_X)\n",
    "print()\n",
    "print(accuracy_score(test_y, test_y_pred))\n",
    "print(precision_recall_fscore_support(test_y, test_y_pred))\n",
    "\n",
    "sorted(zip(feature_descriptions, model.coef_[0].tolist()), key=lambda x: x[1])"
   ]
  },
  {
   "cell_type": "code",
   "execution_count": 9,
   "metadata": {},
   "outputs": [
    {
     "name": "stdout",
     "output_type": "stream",
     "text": [
      "Number of values per data point: 3\n",
      "0.5428571428571428\n",
      "URL for first example: www.motherjones.com\n",
      "Label for first example: 0\n",
      "HTML for first example (first 5000 chars):\n",
      "\n",
      " <!DOCTYPE html>\n",
      "<html class=\"no-js\" lang=\"en-US\">\n",
      " <head>\n",
      "  <meta charset=\"utf-8\"/>\n",
      "  <script type=\"text/javascript\">\n",
      "   window.NREUM||(NREUM={}),__nr_require=function(e,n,t){function r(t){if(!n[t]){var o=n[t]={exports:{}};e[t][0].call(o.exports,function(n){var o=e[t][1][n];return r(o||n)},o,o.exports)}return n[t].exports}if(\"function\"==typeof __nr_require)return __nr_require;for(var o=0;o<t.length;o++)r(t[o]);return r}({1:[function(e,n,t){function r(){}function o(e,n,t){return function(){return i(e,[c.now()].concat(u(arguments)),n?null:this,t),n?void 0:this}}var i=e(\"handle\"),a=e(3),u=e(4),f=e(\"ee\").get(\"tracer\"),c=e(\"loader\"),s=NREUM;\"undefined\"==typeof window.newrelic&&(newrelic=s);var p=[\"setPageViewName\",\"setCustomAttribute\",\"setErrorHandler\",\"finished\",\"addToTrace\",\"inlineHit\",\"addRelease\"],d=\"api-\",l=d+\"ixn-\";a(p,function(e,n){s[n]=o(d+n,!0,\"api\")}),s.addPageAction=o(d+\"addPageAction\",!0),s.setCurrentRouteName=o(d+\"routeName\",!0),n.exports=newrelic,s.interaction=function(){return(new r).get()};var m=r.prototype={createTracer:function(e,n){var t={},r=this,o=\"function\"==typeof n;return i(l+\"tracer\",[c.now(),e,t],r),function(){if(f.emit((o?\"\":\"no-\")+\"fn-start\",[c.now(),r,o],t),o)try{return n.apply(this,arguments)}catch(e){throw f.emit(\"fn-err\",[arguments,this,e],t),e}finally{f.emit(\"fn-end\",[c.now()],t)}}}};a(\"actionText,setName,setAttribute,save,ignore,onEnd,getContext,end,get\".split(\",\"),function(e,n){m[n]=o(l+n)}),newrelic.noticeError=function(e,n){\"string\"==typeof e&&(e=new Error(e)),i(\"err\",[e,c.now(),!1,n])}},{}],2:[function(e,n,t){function r(e,n){if(!o)return!1;if(e!==o)return!1;if(!n)return!0;if(!i)return!1;for(var t=i.split(\".\"),r=n.split(\".\"),a=0;a<r.length;a++)if(r[a]!==t[a])return!1;return!0}var o=null,i=null,a=/Version\\/(\\S+)\\s+Safari/;if(navigator.userAgent){var u=navigator.userAgent,f=u.match(a);f&&u.indexOf(\"Chrome\")===-1&&u.indexOf(\"Chromium\")===-1&&(o=\"Safari\",i=f[1])}n.exports={agent:o,version:i,match:r}},{}],3:[function(e,n,t){function r(e,n){var t=[],r=\"\",i=0;for(r in e)o.call(e,r)&&(t[i]=n(r,e[r]),i+=1);return t}var o=Object.prototype.hasOwnProperty;n.exports=r},{}],4:[function(e,n,t){function r(e,n,t){n||(n=0),\"undefined\"==typeof t&&(t=e?e.length:0);for(var r=-1,o=t-n||0,i=Array(o<0?0:o);++r<o;)i[r]=e[n+r];return i}n.exports=r},{}],5:[function(e,n,t){n.exports={exists:\"undefined\"!=typeof window.performance&&window.performance.timing&&\"undefined\"!=typeof window.performance.timing.navigationStart}},{}],ee:[function(e,n,t){function r(){}function o(e){function n(e){return e&&e instanceof r?e:e?f(e,u,i):i()}function t(t,r,o,i){if(!d.aborted||i){e&&e(t,r,o);for(var a=n(o),u=v(t),f=u.length,c=0;c<f;c++)u[c].apply(a,r);var p=s[y[t]];return p&&p.push([b,t,r,a]),a}}function l(e,n){h[e]=v(e).concat(n)}function m(e,n){var t=h[e];if(t)for(var r=0;r<t.length;r++)t[r]===n&&t.splice(r,1)}function v(e){return h[e]||[]}function g(e){return p[e]=p[e]||o(t)}function w(e,n){c(e,function(e,t){n=n||\"feature\",y[t]=n,n in s||(s[n]=[])})}var h={},y={},b={on:l,addEventListener:l,removeEventListener:m,emit:t,get:g,listeners:v,context:n,buffer:w,abort:a,aborted:!1};return b}function i(){return new r}function a(){(s.api||s.feature)&&(d.aborted=!0,s=d.backlog={})}var u=\"nr@context\",f=e(\"gos\"),c=e(3),s={},p={},d=n.exports=o();d.backlog=s},{}],gos:[function(e,n,t){function r(e,n,t){if(o.call(e,n))return e[n];var r=t();if(Object.defineProperty&&Object.keys)try{return Object.defineProperty(e,n,{value:r,writable:!0,enumerable:!1}),r}catch(i){}return e[n]=r,r}var o=Object.prototype.hasOwnProperty;n.exports=r},{}],handle:[function(e,n,t){function r(e,n,t,r){o.buffer([e],r),o.emit(e,n,t)}var o=e(\"ee\").get(\"handle\");n.exports=r,r.ee=o},{}],id:[function(e,n,t){function r(e){var n=typeof e;return!e||\"object\"!==n&&\"function\"!==n?-1:e===window?0:a(e,i,function(){return o++})}var o=1,i=\"nr@id\",a=e(\"gos\");n.exports=r},{}],loader:[function(e,n,t){function r(){if(!E++){var e=x.info=NREUM.info,n=l.getElementsByTagName(\"script\")[0];if(setTimeout(s.abort,3e4),!(e&&e.licenseKey&&e.applicationID&&n))return s.abort();c(y,function(n,t){e[n]||(e[n]=t)}),f(\"mark\",[\"onload\",a()+x.offset],null,\"api\");var t=l.createElement(\"script\");t.src=\"https://\"+e.agent,n.parentNode.insertBefore(t,n)}}function o(){\"complete\"===l.readyState&&i()}function i(){f(\"mark\",[\"domContent\",a()+x.offset],null,\"api\")}function a(){return O.exists&&performance.now?Math.round(performance.now()):(u=Math.max((new Date).getTime(),u))-x.offset}var u=(new Date).getTime(),f=e(\"handle\"),c=e(3),s=e(\"ee\"),p=e(2),d=window,l=d.document,m=\"addEventListener\",v=\"attachEvent\",g=d.XMLHttpRequest,w=g&&g.prototype;NREUM.o={ST:setTimeout,SI:d.setImmediate,CT:clearTimeout,XHR:g,REQ:d.Request,EV:d.Event,PR:d.Promise,MO:d.MutationObserver};var h=\"\"+location,y={beacon:\"bam.nr-data.net\",errorBeacon:\"bam.nr-data.net\",agent:\"js-agent.newrelic.com/nr-1123.min.js\"},b=g&&w&&w[m]&&!/CriOS/.test(navigator.userAgent),x=n.exports={offset:u,now:a,origin:h,features:{},xhrWrappable:b,userAgent:p};e(1),\n"
     ]
    }
   ],
   "source": [
    "from bs4 import BeautifulSoup as bs\n",
    "\n",
    "print('Number of values per data point: %d' % len(train_data[0]))\n",
    "\n",
    "print(len([datapoint for datapoint in test_data if datapoint[2] == 0]) / float(len(test_data)))\n",
    "\n",
    "print('URL for first example:', train_data[0][0])\n",
    "print('Label for first example:', train_data[0][2])\n",
    "print('HTML for first example (first 5000 chars):\\n\\n', bs(train_data[0][1]).prettify()[:5000])"
   ]
  },
  {
   "cell_type": "code",
   "execution_count": 10,
   "metadata": {},
   "outputs": [
    {
     "data": {
      "text/plain": [
       "(0.9150485436893204, 0.7944444444444444)"
      ]
     },
     "execution_count": 10,
     "metadata": {},
     "output_type": "execute_result"
    }
   ],
   "source": [
    "def get_real_and_fake_fractions(train_data, hypothesis):\n",
    "    real_true = 0.0\n",
    "    real_total = 0.0\n",
    "    fake_true = 0.0\n",
    "    fake_total = 0.0\n",
    "    \n",
    "    for datapoint in train_data:\n",
    "        label = datapoint[2]\n",
    "        hypothesis_truth = int(hypothesis(datapoint))\n",
    "        if label: # Fake\n",
    "            fake_total += 1\n",
    "            fake_true += hypothesis_truth \n",
    "        else: # Real\n",
    "            real_total += 1\n",
    "            real_true += hypothesis_truth\n",
    "            \n",
    "    return real_true / real_total, fake_true / fake_total\n",
    "\n",
    "get_real_and_fake_fractions(train_data, lambda x: x[0].endswith('.com'))"
   ]
  },
  {
   "cell_type": "code",
   "execution_count": 28,
   "metadata": {},
   "outputs": [],
   "source": [
    "with open('sample_train_val_data.pkl', 'wb') as f:\n",
    "    pickle.dump([train_data, val_data], f)\n",
    "\n",
    "with open('sample_test_data.pkl', 'wb') as f:\n",
    "    pickle.dump(test_data , f)"
   ]
  },
  {
   "cell_type": "code",
   "execution_count": null,
   "metadata": {},
   "outputs": [],
   "source": []
  }
 ],
 "metadata": {
  "kernelspec": {
   "display_name": "Python 3",
   "language": "python",
   "name": "python3"
  },
  "language_info": {
   "codemirror_mode": {
    "name": "ipython",
    "version": 3
   },
   "file_extension": ".py",
   "mimetype": "text/x-python",
   "name": "python",
   "nbconvert_exporter": "python",
   "pygments_lexer": "ipython3",
   "version": "3.7.3"
  }
 },
 "nbformat": 4,
 "nbformat_minor": 2
}
