{
 "cells": [
  {
   "cell_type": "code",
   "execution_count": 75,
   "metadata": {},
   "outputs": [],
   "source": [
    "import pickle\n",
    "import io\n",
    "import os\n",
    "import sys\n",
    "import json\n",
    "import requests\n",
    "from tqdm import tqdm\n",
    "import time\n",
    "import random\n",
    "import numpy as np\n",
    "import math"
   ]
  },
  {
   "cell_type": "code",
   "execution_count": 76,
   "metadata": {},
   "outputs": [
    {
     "name": "stderr",
     "output_type": "stream",
     "text": [
      "  1%|          | 6/661 [00:04<07:12,  1.51it/s]"
     ]
    },
    {
     "name": "stdout",
     "output_type": "stream",
     "text": [
      "Skipping centralnewsamerica.com\n"
     ]
    },
    {
     "name": "stderr",
     "output_type": "stream",
     "text": [
      "  2%|▏         | 13/661 [00:20<40:28,  3.75s/it]"
     ]
    },
    {
     "name": "stdout",
     "output_type": "stream",
     "text": [
      "Skipping theeventchronicle.com\n"
     ]
    },
    {
     "name": "stderr",
     "output_type": "stream",
     "text": [
      "  4%|▍         | 28/661 [00:32<13:32,  1.28s/it]"
     ]
    },
    {
     "name": "stdout",
     "output_type": "stream",
     "text": [
      "Skipping wakingupwisconsin.com\n"
     ]
    },
    {
     "name": "stderr",
     "output_type": "stream",
     "text": [
      "\r",
      "  5%|▍         | 30/661 [00:35<13:56,  1.33s/it]"
     ]
    },
    {
     "name": "stdout",
     "output_type": "stream",
     "text": [
      "Skipping everydayworldnews.com\n"
     ]
    },
    {
     "name": "stderr",
     "output_type": "stream",
     "text": [
      "  8%|▊         | 55/661 [01:01<36:26,  3.61s/it]"
     ]
    },
    {
     "name": "stdout",
     "output_type": "stream",
     "text": [
      "Skipping off-guardian.org\n"
     ]
    },
    {
     "name": "stderr",
     "output_type": "stream",
     "text": [
      " 11%|█         | 72/661 [01:15<08:47,  1.12it/s]"
     ]
    },
    {
     "name": "stdout",
     "output_type": "stream",
     "text": [
      "Skipping nyuzer.com\n"
     ]
    },
    {
     "name": "stderr",
     "output_type": "stream",
     "text": [
      " 12%|█▏        | 78/661 [01:17<04:59,  1.94it/s]"
     ]
    },
    {
     "name": "stdout",
     "output_type": "stream",
     "text": [
      "Skipping latestnews5.com\n"
     ]
    },
    {
     "name": "stderr",
     "output_type": "stream",
     "text": [
      " 13%|█▎        | 87/661 [01:22<07:27,  1.28it/s]"
     ]
    },
    {
     "name": "stdout",
     "output_type": "stream",
     "text": [
      "Skipping usblastingnews.com\n"
     ]
    },
    {
     "name": "stderr",
     "output_type": "stream",
     "text": [
      " 16%|█▌        | 104/661 [01:39<05:53,  1.58it/s]"
     ]
    },
    {
     "name": "stdout",
     "output_type": "stream",
     "text": [
      "Skipping politicalsitenews.com\n"
     ]
    },
    {
     "name": "stderr",
     "output_type": "stream",
     "text": [
      "\r",
      " 16%|█▌        | 105/661 [01:40<05:11,  1.79it/s]"
     ]
    },
    {
     "name": "stdout",
     "output_type": "stream",
     "text": [
      "Skipping nbcpolitics.org\n",
      "Skipping thereporterz.com\n"
     ]
    },
    {
     "name": "stderr",
     "output_type": "stream",
     "text": [
      " 17%|█▋        | 111/661 [01:45<09:27,  1.03s/it]"
     ]
    },
    {
     "name": "stdout",
     "output_type": "stream",
     "text": [
      "Skipping usapoliticus.com\n"
     ]
    },
    {
     "name": "stderr",
     "output_type": "stream",
     "text": [
      " 18%|█▊        | 118/661 [01:49<06:29,  1.39it/s]"
     ]
    },
    {
     "name": "stdout",
     "output_type": "stream",
     "text": [
      "Skipping yourfunpage.com\n"
     ]
    },
    {
     "name": "stderr",
     "output_type": "stream",
     "text": [
      " 18%|█▊        | 122/661 [02:00<30:21,  3.38s/it]"
     ]
    },
    {
     "name": "stdout",
     "output_type": "stream",
     "text": [
      "Skipping proudemocrat.com\n"
     ]
    },
    {
     "name": "stderr",
     "output_type": "stream",
     "text": [
      " 20%|█▉        | 130/661 [02:10<10:53,  1.23s/it]"
     ]
    },
    {
     "name": "stdout",
     "output_type": "stream",
     "text": [
      "Skipping usviewer.com\n"
     ]
    },
    {
     "name": "stderr",
     "output_type": "stream",
     "text": [
      " 20%|██        | 134/661 [02:12<06:33,  1.34it/s]"
     ]
    },
    {
     "name": "stdout",
     "output_type": "stream",
     "text": [
      "Skipping eatinghealthytricks.com\n"
     ]
    },
    {
     "name": "stderr",
     "output_type": "stream",
     "text": [
      " 22%|██▏       | 146/661 [02:40<37:19,  4.35s/it]"
     ]
    },
    {
     "name": "stdout",
     "output_type": "stream",
     "text": [
      "Skipping theuspatriot.com\n"
     ]
    },
    {
     "name": "stderr",
     "output_type": "stream",
     "text": [
      " 23%|██▎       | 154/661 [02:45<08:01,  1.05it/s]"
     ]
    },
    {
     "name": "stdout",
     "output_type": "stream",
     "text": [
      "Skipping worldcallyoutoday.com\n"
     ]
    },
    {
     "name": "stderr",
     "output_type": "stream",
     "text": [
      " 26%|██▌       | 172/661 [02:58<04:36,  1.77it/s]"
     ]
    },
    {
     "name": "stdout",
     "output_type": "stream",
     "text": [
      "Skipping worldpoliticsus.com\n"
     ]
    },
    {
     "name": "stderr",
     "output_type": "stream",
     "text": [
      " 27%|██▋       | 180/661 [03:08<11:30,  1.44s/it]"
     ]
    },
    {
     "name": "stdout",
     "output_type": "stream",
     "text": [
      "Skipping allpoliticsnews.com\n"
     ]
    },
    {
     "name": "stderr",
     "output_type": "stream",
     "text": [
      "\r",
      " 28%|██▊       | 182/661 [03:09<09:30,  1.19s/it]"
     ]
    },
    {
     "name": "stdout",
     "output_type": "stream",
     "text": [
      "Skipping newslo.com\n"
     ]
    },
    {
     "name": "stderr",
     "output_type": "stream",
     "text": [
      " 28%|██▊       | 187/661 [03:35<50:13,  6.36s/it]"
     ]
    },
    {
     "name": "stdout",
     "output_type": "stream",
     "text": [
      "Skipping morningnewsusa.com\n"
     ]
    },
    {
     "name": "stderr",
     "output_type": "stream",
     "text": [
      " 29%|██▉       | 192/661 [03:42<15:07,  1.93s/it]"
     ]
    },
    {
     "name": "stdout",
     "output_type": "stream",
     "text": [
      "Skipping universepolitics.com\n"
     ]
    },
    {
     "name": "stderr",
     "output_type": "stream",
     "text": [
      "\r",
      " 29%|██▉       | 193/661 [03:44<15:46,  2.02s/it]"
     ]
    },
    {
     "name": "stdout",
     "output_type": "stream",
     "text": [
      "Skipping bigbluevision.org\n"
     ]
    },
    {
     "name": "stderr",
     "output_type": "stream",
     "text": [
      " 31%|███       | 203/661 [03:48<03:29,  2.19it/s]"
     ]
    },
    {
     "name": "stdout",
     "output_type": "stream",
     "text": [
      "Skipping msnbc.website\n"
     ]
    },
    {
     "name": "stderr",
     "output_type": "stream",
     "text": [
      " 32%|███▏      | 211/661 [03:53<03:37,  2.07it/s]"
     ]
    },
    {
     "name": "stdout",
     "output_type": "stream",
     "text": [
      "Skipping dailyintestingthings.com\n"
     ]
    },
    {
     "name": "stderr",
     "output_type": "stream",
     "text": [
      " 33%|███▎      | 216/661 [03:55<04:07,  1.80it/s]"
     ]
    },
    {
     "name": "stdout",
     "output_type": "stream",
     "text": [
      "Skipping theautogear.com\n"
     ]
    },
    {
     "name": "stderr",
     "output_type": "stream",
     "text": [
      " 33%|███▎      | 219/661 [04:01<12:53,  1.75s/it]"
     ]
    },
    {
     "name": "stdout",
     "output_type": "stream",
     "text": [
      "Skipping berniesandersnews.org\n"
     ]
    },
    {
     "name": "stderr",
     "output_type": "stream",
     "text": [
      " 37%|███▋      | 247/661 [04:21<02:24,  2.86it/s]"
     ]
    },
    {
     "name": "stdout",
     "output_type": "stream",
     "text": [
      "Skipping dailydemocraticnews.com\n"
     ]
    },
    {
     "name": "stderr",
     "output_type": "stream",
     "text": [
      " 38%|███▊      | 250/661 [04:23<04:17,  1.60it/s]"
     ]
    },
    {
     "name": "stdout",
     "output_type": "stream",
     "text": [
      "Skipping usa2016elections.com\n"
     ]
    },
    {
     "name": "stderr",
     "output_type": "stream",
     "text": [
      " 39%|███▉      | 260/661 [04:32<06:23,  1.05it/s]"
     ]
    },
    {
     "name": "stdout",
     "output_type": "stream",
     "text": [
      "Skipping usalinepoliticsnow.com\n",
      "Skipping politicaltimes.org\n"
     ]
    },
    {
     "name": "stderr",
     "output_type": "stream",
     "text": [
      " 40%|████      | 265/661 [04:35<04:25,  1.49it/s]"
     ]
    },
    {
     "name": "stdout",
     "output_type": "stream",
     "text": [
      "Skipping conspiracywire.com\n"
     ]
    },
    {
     "name": "stderr",
     "output_type": "stream",
     "text": [
      " 41%|████▏     | 274/661 [04:43<03:48,  1.69it/s]"
     ]
    },
    {
     "name": "stdout",
     "output_type": "stream",
     "text": [
      "Skipping 24extremeworld.com\n"
     ]
    },
    {
     "name": "stderr",
     "output_type": "stream",
     "text": [
      " 44%|████▍     | 292/661 [05:05<21:42,  3.53s/it]"
     ]
    },
    {
     "name": "stdout",
     "output_type": "stream",
     "text": [
      "Skipping consortiumnews.com\n"
     ]
    },
    {
     "name": "stderr",
     "output_type": "stream",
     "text": [
      " 45%|████▌     | 298/661 [05:09<04:49,  1.25it/s]"
     ]
    },
    {
     "name": "stdout",
     "output_type": "stream",
     "text": [
      "Skipping doctorhealth365.com\n"
     ]
    },
    {
     "name": "stderr",
     "output_type": "stream",
     "text": [
      " 47%|████▋     | 310/661 [05:16<04:15,  1.37it/s]"
     ]
    },
    {
     "name": "stdout",
     "output_type": "stream",
     "text": [
      "Skipping dailypolitics.info\n"
     ]
    },
    {
     "name": "stderr",
     "output_type": "stream",
     "text": [
      " 49%|████▊     | 321/661 [05:29<06:27,  1.14s/it]"
     ]
    },
    {
     "name": "stdout",
     "output_type": "stream",
     "text": [
      "Skipping igrewupinusa.info\n"
     ]
    },
    {
     "name": "stderr",
     "output_type": "stream",
     "text": [
      " 49%|████▉     | 326/661 [05:32<04:27,  1.25it/s]"
     ]
    },
    {
     "name": "stdout",
     "output_type": "stream",
     "text": [
      "Skipping daily-magazine.news\n"
     ]
    },
    {
     "name": "stderr",
     "output_type": "stream",
     "text": [
      " 50%|█████     | 331/661 [05:34<02:34,  2.13it/s]"
     ]
    },
    {
     "name": "stdout",
     "output_type": "stream",
     "text": [
      "Skipping dailycurrant.com\n"
     ]
    },
    {
     "name": "stderr",
     "output_type": "stream",
     "text": [
      "\r",
      " 50%|█████     | 333/661 [05:44<10:05,  1.85s/it]"
     ]
    },
    {
     "name": "stdout",
     "output_type": "stream",
     "text": [
      "Skipping geopolmonitor.com\n"
     ]
    },
    {
     "name": "stderr",
     "output_type": "stream",
     "text": [
      " 51%|█████     | 337/661 [05:48<06:32,  1.21s/it]"
     ]
    },
    {
     "name": "stdout",
     "output_type": "stream",
     "text": [
      "Skipping dailypoliticsusa.com\n"
     ]
    },
    {
     "name": "stderr",
     "output_type": "stream",
     "text": [
      " 52%|█████▏    | 342/661 [05:51<03:13,  1.65it/s]"
     ]
    },
    {
     "name": "stdout",
     "output_type": "stream",
     "text": [
      "Skipping dailynews24-7.com\n"
     ]
    },
    {
     "name": "stderr",
     "output_type": "stream",
     "text": [
      " 53%|█████▎    | 349/661 [05:56<03:57,  1.32it/s]"
     ]
    },
    {
     "name": "stdout",
     "output_type": "stream",
     "text": [
      "Skipping usaonlinepolitics.com\n"
     ]
    },
    {
     "name": "stderr",
     "output_type": "stream",
     "text": [
      "\r",
      " 53%|█████▎    | 351/661 [05:56<03:05,  1.67it/s]"
     ]
    },
    {
     "name": "stdout",
     "output_type": "stream",
     "text": [
      "Skipping berniesanders24.com\n"
     ]
    },
    {
     "name": "stderr",
     "output_type": "stream",
     "text": [
      " 54%|█████▍    | 356/661 [05:59<04:11,  1.21it/s]"
     ]
    },
    {
     "name": "stdout",
     "output_type": "stream",
     "text": [
      "Skipping usapoliticsnow.com\n"
     ]
    },
    {
     "name": "stderr",
     "output_type": "stream",
     "text": [
      " 56%|█████▌    | 367/661 [06:03<02:14,  2.19it/s]"
     ]
    },
    {
     "name": "stdout",
     "output_type": "stream",
     "text": [
      "Skipping thedemocratic.site\n"
     ]
    },
    {
     "name": "stderr",
     "output_type": "stream",
     "text": [
      " 56%|█████▌    | 369/661 [06:04<01:27,  3.34it/s]"
     ]
    },
    {
     "name": "stdout",
     "output_type": "stream",
     "text": [
      "Skipping usalinepolitics.com\n"
     ]
    },
    {
     "name": "stderr",
     "output_type": "stream",
     "text": [
      " 59%|█████▉    | 393/661 [06:22<01:27,  3.05it/s]"
     ]
    },
    {
     "name": "stdout",
     "output_type": "stream",
     "text": [
      "Skipping everythingnewdaily.com\n"
     ]
    },
    {
     "name": "stderr",
     "output_type": "stream",
     "text": [
      " 61%|██████    | 402/661 [06:30<05:32,  1.28s/it]"
     ]
    },
    {
     "name": "stdout",
     "output_type": "stream",
     "text": [
      "Skipping vonpress.com\n"
     ]
    },
    {
     "name": "stderr",
     "output_type": "stream",
     "text": [
      "\r",
      " 61%|██████    | 403/661 [06:32<06:09,  1.43s/it]"
     ]
    },
    {
     "name": "stdout",
     "output_type": "stream",
     "text": [
      "Skipping realprogress.online\n",
      "Skipping usanews24hrs.com\n"
     ]
    },
    {
     "name": "stderr",
     "output_type": "stream",
     "text": [
      " 64%|██████▍   | 424/661 [06:49<02:40,  1.48it/s]"
     ]
    },
    {
     "name": "stdout",
     "output_type": "stream",
     "text": [
      "Skipping votocrat.com\n"
     ]
    },
    {
     "name": "stderr",
     "output_type": "stream",
     "text": [
      "\r",
      " 64%|██████▍   | 425/661 [06:49<02:47,  1.41it/s]"
     ]
    },
    {
     "name": "stdout",
     "output_type": "stream",
     "text": [
      "Skipping wikispooks.com\n"
     ]
    },
    {
     "name": "stderr",
     "output_type": "stream",
     "text": [
      " 65%|██████▍   | 427/661 [06:54<05:40,  1.46s/it]"
     ]
    },
    {
     "name": "stdout",
     "output_type": "stream",
     "text": [
      "Skipping openmindmagazine.com\n"
     ]
    },
    {
     "name": "stderr",
     "output_type": "stream",
     "text": [
      " 65%|██████▌   | 430/661 [06:59<07:24,  1.93s/it]"
     ]
    },
    {
     "name": "stdout",
     "output_type": "stream",
     "text": [
      "Skipping delectabledietofpics.net\n"
     ]
    },
    {
     "name": "stderr",
     "output_type": "stream",
     "text": [
      " 68%|██████▊   | 452/661 [07:16<04:21,  1.25s/it]"
     ]
    },
    {
     "name": "stdout",
     "output_type": "stream",
     "text": [
      "Skipping thenewsnerd.com\n",
      "Skipping trendingnewstoday.net\n"
     ]
    },
    {
     "name": "stderr",
     "output_type": "stream",
     "text": [
      " 69%|██████▉   | 455/661 [07:28<12:59,  3.79s/it]"
     ]
    },
    {
     "name": "stdout",
     "output_type": "stream",
     "text": [
      "Skipping nymeta.co\n"
     ]
    },
    {
     "name": "stderr",
     "output_type": "stream",
     "text": [
      " 69%|██████▉   | 457/661 [07:38<16:43,  4.92s/it]"
     ]
    },
    {
     "name": "stdout",
     "output_type": "stream",
     "text": [
      "Skipping usascan.com\n"
     ]
    },
    {
     "name": "stderr",
     "output_type": "stream",
     "text": [
      " 70%|██████▉   | 462/661 [07:45<07:45,  2.34s/it]"
     ]
    },
    {
     "name": "stdout",
     "output_type": "stream",
     "text": [
      "Skipping sentinelblog.com\n"
     ]
    },
    {
     "name": "stderr",
     "output_type": "stream",
     "text": [
      " 70%|███████   | 464/661 [07:55<13:45,  4.19s/it]"
     ]
    },
    {
     "name": "stdout",
     "output_type": "stream",
     "text": [
      "Skipping truthkings.com\n"
     ]
    },
    {
     "name": "stderr",
     "output_type": "stream",
     "text": [
      " 70%|███████   | 466/661 [07:56<07:43,  2.38s/it]"
     ]
    },
    {
     "name": "stdout",
     "output_type": "stream",
     "text": [
      "Skipping allgoodsides.com\n"
     ]
    },
    {
     "name": "stderr",
     "output_type": "stream",
     "text": [
      " 71%|███████   | 469/661 [07:59<05:18,  1.66s/it]"
     ]
    },
    {
     "name": "stdout",
     "output_type": "stream",
     "text": [
      "Skipping anonnews.co\n"
     ]
    },
    {
     "name": "stderr",
     "output_type": "stream",
     "text": [
      " 71%|███████▏  | 472/661 [08:01<03:52,  1.23s/it]"
     ]
    },
    {
     "name": "stdout",
     "output_type": "stream",
     "text": [
      "Skipping bigbluedimension.com\n"
     ]
    },
    {
     "name": "stderr",
     "output_type": "stream",
     "text": [
      " 72%|███████▏  | 475/661 [08:02<02:10,  1.43it/s]"
     ]
    },
    {
     "name": "stdout",
     "output_type": "stream",
     "text": [
      "Skipping darkpolitricks.com\n"
     ]
    },
    {
     "name": "stderr",
     "output_type": "stream",
     "text": [
      " 72%|███████▏  | 477/661 [08:06<03:54,  1.28s/it]"
     ]
    },
    {
     "name": "stdout",
     "output_type": "stream",
     "text": [
      "Skipping christianfightback.com\n"
     ]
    },
    {
     "name": "stderr",
     "output_type": "stream",
     "text": [
      "\r",
      " 72%|███████▏  | 478/661 [08:07<03:47,  1.24s/it]"
     ]
    },
    {
     "name": "stdout",
     "output_type": "stream",
     "text": [
      "Skipping politicalo.com\n"
     ]
    },
    {
     "name": "stderr",
     "output_type": "stream",
     "text": [
      " 73%|███████▎  | 485/661 [08:13<03:42,  1.26s/it]"
     ]
    },
    {
     "name": "stdout",
     "output_type": "stream",
     "text": [
      "Skipping worlddaily.info\n"
     ]
    },
    {
     "name": "stderr",
     "output_type": "stream",
     "text": [
      " 75%|███████▍  | 494/661 [08:16<01:06,  2.51it/s]"
     ]
    },
    {
     "name": "stdout",
     "output_type": "stream",
     "text": [
      "Skipping awesomethings4you.com\n"
     ]
    },
    {
     "name": "stderr",
     "output_type": "stream",
     "text": [
      " 77%|███████▋  | 511/661 [08:28<01:01,  2.42it/s]"
     ]
    },
    {
     "name": "stdout",
     "output_type": "stream",
     "text": [
      "Skipping nbcpoll.com\n"
     ]
    },
    {
     "name": "stderr",
     "output_type": "stream",
     "text": [
      " 78%|███████▊  | 514/661 [08:36<03:32,  1.44s/it]"
     ]
    },
    {
     "name": "stdout",
     "output_type": "stream",
     "text": [
      "Skipping topnewspolitics.com\n"
     ]
    },
    {
     "name": "stderr",
     "output_type": "stream",
     "text": [
      "\r",
      " 78%|███████▊  | 516/661 [08:46<06:04,  2.52s/it]"
     ]
    },
    {
     "name": "stdout",
     "output_type": "stream",
     "text": [
      "Skipping americannews.com\n"
     ]
    },
    {
     "name": "stderr",
     "output_type": "stream",
     "text": [
      " 79%|███████▊  | 520/661 [08:57<07:13,  3.08s/it]"
     ]
    },
    {
     "name": "stdout",
     "output_type": "stream",
     "text": [
      "Skipping politicalblindspot.com\n"
     ]
    },
    {
     "name": "stderr",
     "output_type": "stream",
     "text": [
      " 81%|████████  | 534/661 [09:13<01:17,  1.64it/s]"
     ]
    },
    {
     "name": "stdout",
     "output_type": "stream",
     "text": [
      "Skipping gonzoglobe.com\n"
     ]
    },
    {
     "name": "stderr",
     "output_type": "stream",
     "text": [
      " 84%|████████▎ | 553/661 [09:32<00:53,  2.00it/s]"
     ]
    },
    {
     "name": "stdout",
     "output_type": "stream",
     "text": [
      "Skipping freewoodpost.com\n"
     ]
    },
    {
     "name": "stderr",
     "output_type": "stream",
     "text": [
      " 84%|████████▍ | 556/661 [09:43<05:42,  3.26s/it]"
     ]
    },
    {
     "name": "stdout",
     "output_type": "stream",
     "text": [
      "Skipping www.miamiherald.com\n"
     ]
    },
    {
     "name": "stderr",
     "output_type": "stream",
     "text": [
      " 87%|████████▋ | 574/661 [10:36<00:39,  2.20it/s]"
     ]
    },
    {
     "name": "stdout",
     "output_type": "stream",
     "text": [
      "Skipping huffingtonpost.com\n"
     ]
    },
    {
     "name": "stderr",
     "output_type": "stream",
     "text": [
      "100%|██████████| 661/661 [11:12<00:00,  3.98it/s]\n"
     ]
    }
   ],
   "source": [
    "with open('fake_sites.json') as f:\n",
    "    fake_sites = json.load(f)\n",
    "    fake_sites = list(set([site['url'] for site in fake_sites]))\n",
    "    fake_sites = [(url, 1) for url in fake_sites]\n",
    "    \n",
    "with open('real_sites.json') as f:\n",
    "    real_sites = list(set(json.load(f)))\n",
    "    real_sites = [(url, 0) for url in real_sites]\n",
    "    \n",
    "sites = fake_sites + real_sites\n",
    "    \n",
    "    \n",
    "def get_data_tuples(sites):\n",
    "    tuples = []\n",
    "    for url, label in tqdm(sites):\n",
    "        if not url.startswith('http'):\n",
    "            url = 'http://' + url\n",
    "        url_pretty = url\n",
    "        if url_pretty.startswith('http://'):\n",
    "            url_pretty = url_pretty[7:]\n",
    "        if url_pretty.startswith('https://'):\n",
    "            url_pretty = url_pretty[8:]\n",
    "        try:\n",
    "            response = requests.get(url, timeout=10)\n",
    "            htmltext = response.text\n",
    "        except:\n",
    "            print('Skipping', url_pretty)\n",
    "            continue\n",
    "        tuples.append((url_pretty, htmltext, label))\n",
    "\n",
    "    return tuples\n",
    "        \n",
    "data_tuples = get_data_tuples(sites)"
   ]
  },
  {
   "cell_type": "code",
   "execution_count": 77,
   "metadata": {},
   "outputs": [],
   "source": [
    "with open('data_files/%d.pkl' % time.time(), 'wb') as f:\n",
    "    pickle.dump(data_tuples, f)"
   ]
  },
  {
   "cell_type": "code",
   "execution_count": 84,
   "metadata": {},
   "outputs": [
    {
     "name": "stdout",
     "output_type": "stream",
     "text": [
      "Loading data_files/1558473195.pkl\n",
      "582\n",
      "Loading data_files/1558734576.pkl\n",
      "583\n",
      "Loading data_files/1558567359.pkl\n",
      "584\n",
      "Loading data_files/1558652712.pkl\n",
      "580\n",
      "2329\n",
      "\n",
      "523\n",
      "61\n",
      "73\n"
     ]
    }
   ],
   "source": [
    "data = []\n",
    "files = [os.path.join('data_files', filename) for filename in os.listdir('data_files') if filename.endswith('.pkl')]\n",
    "for file in files:\n",
    "    print('Loading', file)\n",
    "    with open(file, 'rb') as f:\n",
    "        data_curr = pickle.load(f)\n",
    "        print(len(data_curr))\n",
    "        data = data + data_curr\n",
    "print(len(data))\n",
    "\n",
    "train_sites = set()\n",
    "val_sites = set()\n",
    "test_sites = set()\n",
    "\n",
    "seen = set()\n",
    "\n",
    "def prettify_url(url):\n",
    "    url_pretty = url\n",
    "    if url_pretty.startswith('http://'):\n",
    "        url_pretty = url_pretty[7:]\n",
    "    if url_pretty.startswith('https://'):\n",
    "        url_pretty = url_pretty[8:]\n",
    "    return url_pretty\n",
    "\n",
    "for site, label in fake_sites:\n",
    "    site = prettify_url(site)\n",
    "    if site in seen:\n",
    "        continue\n",
    "    seen.add(site)\n",
    "    if random.random() < .1:\n",
    "        test_sites.add(site)\n",
    "    elif random.random() < .1:\n",
    "        val_sites.add(site)\n",
    "    else:\n",
    "        train_sites.add(site)\n",
    "        \n",
    "for site, label in real_sites:\n",
    "    site = prettify_url(site)\n",
    "    if site in seen:\n",
    "        continue\n",
    "    seen.add(site)\n",
    "    if random.random() < .1:\n",
    "        test_sites.add(site)\n",
    "    elif random.random() < .1:\n",
    "        val_sites.add(site)\n",
    "    else:\n",
    "        train_sites.add(site)\n",
    "print()        \n",
    "print(len(train_sites))\n",
    "print(len(val_sites))\n",
    "print(len(test_sites))\n",
    "\n",
    "assert(not train_sites.intersection(val_sites))\n",
    "assert(not test_sites.intersection(val_sites))\n",
    "assert(not test_sites.intersection(train_sites))\n",
    "\n",
    "splits = [train_sites, val_sites, test_sites]"
   ]
  },
  {
   "cell_type": "code",
   "execution_count": 86,
   "metadata": {},
   "outputs": [
    {
     "name": "stdout",
     "output_type": "stream",
     "text": [
      "640 87 86\n",
      "('.biz in url', '.info in url', '.net in url', '.com in url', '.org in url', '.co.uk in url', '.ru in url', '.me in url', '.tv in url', '.co. in url', '.news in url')\n",
      "[LibLinear]\n",
      "0.596875\n",
      "(array([0.55595668, 0.86046512]), array([0.9625 , 0.23125]), array([0.70480549, 0.36453202]), array([320, 320]))\n",
      "\n",
      "0.6206896551724138\n",
      "(array([0.60273973, 0.71428571]), array([0.91666667, 0.25641026]), array([0.72727273, 0.37735849]), array([48, 39]))\n",
      "\n",
      "0.5465116279069767\n",
      "(array([0.56338028, 0.46666667]), array([0.83333333, 0.18421053]), array([0.67226891, 0.26415094]), array([48, 38]))\n"
     ]
    },
    {
     "name": "stderr",
     "output_type": "stream",
     "text": [
      "/usr/local/lib/python3.7/site-packages/sklearn/linear_model/logistic.py:433: FutureWarning: Default solver will be changed to 'lbfgs' in 0.22. Specify a solver to silence this warning.\n",
      "  FutureWarning)\n"
     ]
    },
    {
     "data": {
      "text/plain": [
       "[('.co.uk in url', -1.9290024454052148),\n",
       " ('.com in url', -1.3923810137748884),\n",
       " ('.org in url', 0.04532102639074474),\n",
       " ('.me in url', 0.19793408358258954),\n",
       " ('.biz in url', 0.3500510256747121),\n",
       " ('.ru in url', 0.3500510256747121),\n",
       " ('.news in url', 0.3500510256747121),\n",
       " ('.info in url', 0.4736516625398943),\n",
       " ('.tv in url', 0.4736516625398943),\n",
       " ('.net in url', 0.8846712419187717),\n",
       " ('.co. in url', 0.998830545559309)]"
      ]
     },
     "execution_count": 86,
     "metadata": {},
     "output_type": "execute_result"
    }
   ],
   "source": [
    "def get_normalized_count(html, phrase):\n",
    "    return math.log(1 + html.count(phrase.lower()))\n",
    "\n",
    "def baseline_featurizer(data):\n",
    "    X = []\n",
    "    y = []\n",
    "    for site_info in data:\n",
    "        url, html, label = site_info\n",
    "        html = html.lower()\n",
    "        y.append(label)\n",
    "        \n",
    "        features = {}\n",
    "        features['.biz in url'] = url.endswith('.biz')\n",
    "        features['.info in url'] = url.endswith('.info')\n",
    "        features['.net in url'] = url.endswith('.net')\n",
    "        features['.com in url'] = url.endswith('.com')\n",
    "        features['.org in url'] = url.endswith('.org')\n",
    "        features['.co.uk in url'] = url.endswith('.co.uk')\n",
    "        features['.ru in url'] = url.endswith('.ru')\n",
    "        features['.me in url'] = url.endswith('.me')\n",
    "        features['.tv in url'] = url.endswith('.tv')\n",
    "        features['.co. in url'] = url.endswith('.co')\n",
    "        features['.news in url'] = url.endswith('.news')\n",
    "        \n",
    "        features['trump count'] = get_normalized_count(html, 'trump')\n",
    "        features['obama count'] = get_normalized_count(html, 'obama')\n",
    "        features['clinton count'] = get_normalized_count(html, 'clinton')\n",
    "        features['biden count'] = get_normalized_count(html, 'biden')\n",
    "        \n",
    "        features['sports count'] = get_normalized_count(html, 'sports')\n",
    "        features['politics count'] = get_normalized_count(html, 'politics')\n",
    "        features['news count'] = get_normalized_count(html, 'news')\n",
    "        features['finance count'] = get_normalized_count(html, 'finance')\n",
    "        features['opinion count'] = get_normalized_count(html, 'opinion')\n",
    "        \n",
    "        feature_descriptions, feature_values = zip(*features.items())\n",
    "        \n",
    "        X.append(feature_values)\n",
    "        \n",
    "    return X, y, feature_descriptions\n",
    "        \n",
    "def split_data(data, splits, filter_fake=.2):\n",
    "    train_sites, val_sites, test_sites = splits\n",
    "    train_data, val_data, test_data = [], [], []\n",
    "    for site_info in data:\n",
    "        url = site_info[0]\n",
    "        if site_info[2] == 1 and random.random() > filter_fake:\n",
    "            continue\n",
    "        if url in train_sites:\n",
    "            train_data.append(site_info)\n",
    "        elif url in val_sites:\n",
    "            val_data.append(site_info)\n",
    "        elif url in test_sites:\n",
    "            test_data.append(site_info)\n",
    "        else:\n",
    "            print('URL NOT FOUND', url, site_info)\n",
    "            assert(False)\n",
    "    random.shuffle(train_data)\n",
    "    random.shuffle(val_data)\n",
    "    random.shuffle(test_data)\n",
    "    return train_data, val_data, test_data\n",
    "    \n",
    "train_data, val_data, test_data = split_data(data, splits)\n",
    "print(len(train_data), len(val_data), len(test_data))\n",
    "\n",
    "train_X, train_y, feature_descriptions = baseline_featurizer(train_data)\n",
    "val_X, val_y, feature_descriptions = baseline_featurizer(val_data)\n",
    "test_X, test_y, feature_descriptions = baseline_featurizer(test_data)\n",
    "\n",
    "print(feature_descriptions)\n",
    "\n",
    "from sklearn.linear_model import LogisticRegression\n",
    "from sklearn.metrics import precision_recall_fscore_support\n",
    "from sklearn.metrics import accuracy_score\n",
    "model = LogisticRegression(verbose=True)\n",
    "model.fit(train_X, train_y)\n",
    "train_y_pred = model.predict(train_X)\n",
    "\n",
    "print()\n",
    "print(accuracy_score(train_y, train_y_pred))\n",
    "print(precision_recall_fscore_support(train_y, train_y_pred))\n",
    "\n",
    "val_y_pred = model.predict(val_X)\n",
    "print()\n",
    "print(accuracy_score(val_y, val_y_pred))\n",
    "print(precision_recall_fscore_support(val_y, val_y_pred))\n",
    "\n",
    "test_y_pred = model.predict(test_X)\n",
    "print()\n",
    "print(accuracy_score(test_y, test_y_pred))\n",
    "print(precision_recall_fscore_support(test_y, test_y_pred))\n",
    "\n",
    "sorted(zip(feature_descriptions, model.coef_[0].tolist()), key=lambda x: x[1])"
   ]
  },
  {
   "cell_type": "code",
   "execution_count": 71,
   "metadata": {},
   "outputs": [
    {
     "name": "stdout",
     "output_type": "stream",
     "text": [
      "Number of values per data point: 3\n",
      "0.4\n",
      "URL for first example: www.sfgate.com\n",
      "Label for first example: 0\n",
      "HTML for first example (first 5000 chars):\n",
      "\n",
      " <!DOCTYPE html>\n",
      "<html class=\"header-spacing spacing\">\n",
      " <head>\n",
      "  <!-- hearst/home/header_main.tpl -->\n",
      "  <!-- eid:channel.7429 -->\n",
      "  <meta charset=\"utf-8\"/>\n",
      "  <meta content=\"IE=edge\" http-equiv=\"X-UA-Compatible\"/>\n",
      "  <meta content=\"telephone=no\" name=\"format-detection\"/>\n",
      "  <meta content=\"width=device-width, initial-scale=1.0\" id=\"ovp\" name=\"viewport\"/>\n",
      "  <script>\n",
      "   var m = document.getElementById('ovp'),\n",
      "            p = \"width=1024, initial-scale=\"+(window.innerWidth / 1024)+\", minimum-scale=\"+(window.innerWidth / 1024)+\", maximum-scale=1, user-scalable=yes\",\n",
      "            w = window.innerWidth;\n",
      "\n",
      "        function readDeviceOrientation() {\n",
      "            if(w > 653 && w < 986) {\n",
      "                m.setAttribute(\"content\", p);\n",
      "            }\n",
      "        }\n",
      "        window.onorientationchange = readDeviceOrientation;\n",
      "        readDeviceOrientation();\n",
      "  </script>\n",
      "  <script>\n",
      "   var HDN = HDN || {}; HDN.t_firstbyte = Number(new Date());\n",
      "  </script>\n",
      "  <!-- hearst/common/instart.tpl -->\n",
      "  <!-- e hearst/common/instart.tpl -->\n",
      "  <!-- hearst/common/hdn_datalayer_header.tpl -->\n",
      "  <script type=\"text/javascript\">\n",
      "   // <![CDATA[\n",
      "\n",
      "        var HDN = HDN || {};\n",
      "        HDN.dataLayer = HDN.dataLayer || {};\n",
      "\n",
      "        // HDN.dataLayer object for content and href data\n",
      "        HDN.dataLayer.content = HDN.dataLayer.content || {};\n",
      "        HDN.dataLayer.href = HDN.dataLayer.href || {};\n",
      "\n",
      "    \n",
      "                    HDN.dataLayer.content.title = \"Home\";\n",
      "                HDN.dataLayer.content.subtitle = \"\";\n",
      "        HDN.dataLayer.content.objectId = \"7429\";\n",
      "        \n",
      "        HDN.dataLayer.content.objectType = \"home page\";\n",
      "        HDN.dataLayer.content.sectionPath = ['home'];\n",
      "        HDN.dataLayer.content.pubDate = \"2011-12-05 06:14:00\";\n",
      "        HDN.dataLayer.content.lastModifiedDate = \"2019-05-21 13:34:50\";\n",
      "        HDN.dataLayer.content.wordCount = 0;\n",
      "        HDN.dataLayer.content.keywords = [];\n",
      "        HDN.dataLayer.content.keySubjects = [];\n",
      "        HDN.dataLayer.content.keyCategoryTags = [];\n",
      "        HDN.dataLayer.content.keyPersons = [];\n",
      "        HDN.dataLayer.content.keyOrganizations = [];\n",
      "        HDN.dataLayer.content.keyConcepts = [];\n",
      "        HDN.dataLayer.content.keyCategories = [];\n",
      "        HDN.dataLayer.content.keyPlaces = [];\n",
      "        HDN.dataLayer.content.keyNlpPerson = [];\n",
      "        HDN.dataLayer.content.keyNlpLocation = [];\n",
      "        HDN.dataLayer.content.keyNlpOrganization = [];\n",
      "        HDN.dataLayer.content.keyNlpEvent = [];\n",
      "        HDN.dataLayer.content.keyNlpWorkOfArt = [];\n",
      "        HDN.dataLayer.content.keyNlpConsumerGood = [];\n",
      "        HDN.dataLayer.content.keyNlpOther = [];\n",
      "        HDN.dataLayer.content.keyNlpUnknown = [];\n",
      "\n",
      "        // HDN.dataLayer object for source information\n",
      "        HDN.dataLayer.source = HDN.dataLayer.source || {};\n",
      "\n",
      "        HDN.dataLayer.source.authorName = \"\";\n",
      "        HDN.dataLayer.source.authorTitle = \"\";\n",
      "        HDN.dataLayer.source.originalSourceSite = \"\";\n",
      "        HDN.dataLayer.source.publishingSite = \"sfgate\";\n",
      "        HDN.dataLayer.source.sourceSite = \"sfgate\";\n",
      "        \n",
      "\n",
      "                    \n",
      "                // HDN.dataLayer object for sharing information\n",
      "        HDN.dataLayer.sharing = HDN.dataLayer.sharing || {};\n",
      "\n",
      "        HDN.dataLayer.sharing.openGraphUrl = \"https://www.sfgate.com/\";\n",
      "        HDN.dataLayer.sharing.openGraphType = \"website\";\n",
      "\n",
      "        HDN.dataLayer.href.pageUrl = \"https://www.sfgate.com/\";\n",
      "        HDN.dataLayer.href.canonicalUrl = \"https://www.sfgate.com/\";\n",
      "        HDN.dataLayer.href.pageUrlPath = window.location.pathname;\n",
      "        HDN.dataLayer.href.pageUrlPathFolders = window.location.pathname.replace(/[A-Za-z0-9-_.]+$/, '');\n",
      "        HDN.dataLayer.href.pageUrlQueryParams = window.location.search.replace(/^\\?/, '');\n",
      "        HDN.dataLayer.href.pageUrlHash = window.location.hash;\n",
      "\n",
      "        // HDN.dataLayer object for site\n",
      "        HDN.dataLayer.site = HDN.dataLayer.site || {};\n",
      "\n",
      "        // \"geoloc\" and \"geocites\" used for weather and other location based functionality\n",
      "        HDN.dataLayer.site.geoloc = \"san_francisco\";\n",
      "        HDN.dataLayer.site.geocities = {\"antioch\":{\"geoloc\":\"antioch\",\"city\":\"Antioch\",\"state\":\"CA\",\"lon\":\"-121.8667495\",\"lat\":\"37.9810982\",\"lockey\":0},\"concord\":{\"geoloc\":\"concord\",\"city\":\"Concord\",\"state\":\"CA\",\"lon\":\"-122.0339173\",\"lat\":\"37.9735415\",\"lockey\":1},\"fairfield\":{\"geoloc\":\"fairfield\",\"city\":\"Fairfield\",\"state\":\"CA\",\"lon\":\"-122.1040308\",\"lat\":\"38.2336466\",\"lockey\":2},\"hayward\":{\"geoloc\":\"hayward\",\"city\":\"Hayward\",\"state\":\"CA\",\"lon\":\"-122.1408151\",\"lat\":\"37.6179116\",\"lockey\":3},\"livermore\":{\"geoloc\":\"livermore\",\"city\":\"Livermore\",\"state\":\"CA\",\"lon\":\"-121.8427362\",\"lat\":\"37.6801621\",\"lockey\":4},\"mill_valley\":{\"geoloc\":\"mill_valley\",\"city\":\"Mill Valley\",\"state\":\"CA\",\"lon\":\"-122.5632255\",\"lat\":\"37.9066967\",\"lockey\":5},\"mountain_view\":{\"geoloc\":\"mountain_view\",\"city\":\"Mountain View\",\"state\":\"CA\",\"lon\":\"-122.1514787\",\"lat\":\"37.4133027\",\"lockey\":6},\"napa\":{\"geoloc\":\"napa\",\"city\":\"Napa\",\"state\":\"CA\",\"lon\":\"-122.3601701\",\"lat\":\"38.2859416\",\"lockey\":7},\"oakland\":{\"geoloc\":\"oakland\",\"city\":\"Oakla\n"
     ]
    }
   ],
   "source": [
    "from bs4 import BeautifulSoup as bs\n",
    "\n",
    "print('Number of values per data point: %d' % len(train_data[0]))\n",
    "\n",
    "print(len([datapoint for datapoint in test_data if datapoint[2] == 0]) / float(len(test_data)))\n",
    "\n",
    "print('URL for first example:', train_data[0][0])\n",
    "print('Label for first example:', train_data[0][2])\n",
    "print('HTML for first example (first 5000 chars):\\n\\n', bs(train_data[0][1]).prettify()[:5000])"
   ]
  },
  {
   "cell_type": "code",
   "execution_count": 73,
   "metadata": {},
   "outputs": [
    {
     "data": {
      "text/plain": [
       "(0.9186046511627907, 0.808695652173913)"
      ]
     },
     "execution_count": 73,
     "metadata": {},
     "output_type": "execute_result"
    }
   ],
   "source": [
    "def get_real_and_fake_fractions(train_data, hypothesis):\n",
    "    real_true = 0.0\n",
    "    real_total = 0.0\n",
    "    fake_true = 0.0\n",
    "    fake_total = 0.0\n",
    "    \n",
    "    for datapoint in train_data:\n",
    "        label = datapoint[2]\n",
    "        hypothesis_truth = int(hypothesis(datapoint))\n",
    "        if label: # Fake\n",
    "            fake_total += 1\n",
    "            fake_true += hypothesis_truth \n",
    "        else: # Real\n",
    "            real_total += 1\n",
    "            real_true += hypothesis_truth\n",
    "            \n",
    "    return real_true / real_total, fake_true / fake_total\n",
    "\n",
    "get_real_and_fake_fractions(train_data, lambda x: x[0].endswith('.com'))"
   ]
  },
  {
   "cell_type": "code",
   "execution_count": 74,
   "metadata": {},
   "outputs": [],
   "source": [
    "with open('sample_data.pkl', 'wb') as f:\n",
    "    pickle.dump([train_data, val_data, test_data], f)"
   ]
  },
  {
   "cell_type": "code",
   "execution_count": null,
   "metadata": {},
   "outputs": [],
   "source": []
  }
 ],
 "metadata": {
  "kernelspec": {
   "display_name": "Python 3",
   "language": "python",
   "name": "python3"
  },
  "language_info": {
   "codemirror_mode": {
    "name": "ipython",
    "version": 3
   },
   "file_extension": ".py",
   "mimetype": "text/x-python",
   "name": "python",
   "nbconvert_exporter": "python",
   "pygments_lexer": "ipython3",
   "version": "3.7.3"
  }
 },
 "nbformat": 4,
 "nbformat_minor": 2
}
